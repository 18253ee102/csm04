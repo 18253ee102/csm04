{
 "cells": [
  {
   "cell_type": "code",
   "execution_count": 42,
   "metadata": {},
   "outputs": [],
   "source": [
    "# Import packages\n",
    "import requests\n",
    "import pandas as pd\n",
    "from bs4 import BeautifulSoup\n",
    "from datetime import datetime\n",
    "#from transformers import AutoTokenizer, AutoModelForSequenceClassification\n",
    "\n"
   ]
  },
  {
   "cell_type": "code",
   "execution_count": 43,
   "metadata": {},
   "outputs": [],
   "source": [
    "headers = {\n",
    "    'authority': 'www.amazon.com',\n",
    "    'accept': 'text/html,application/xhtml+xml,application/xml;q=0.9,image/avif,image/webp,image/apng,*/*;q=0.8,application/signed-exchange;v=b3;q=0.9',\n",
    "    'accept-language': 'en-US,en;q=0.9,bn;q=0.8',\n",
    "    'sec-ch-ua': '\" Not A;Brand\";v=\"99\", \"Chromium\";v=\"102\", \"Google Chrome\";v=\"102\"',\n",
    "    'user-agent': 'Mozilla/5.0 (Windows NT 10.0; Win64; x64) AppleWebKit/537.36 (KHTML, like Gecko) Chrome/102.0.0.0 Safari/537.36'\n",
    "}"
   ]
  },
  {
   "cell_type": "code",
   "execution_count": 44,
   "metadata": {},
   "outputs": [],
   "source": [
    "url=input()"
   ]
  },
  {
   "cell_type": "code",
   "execution_count": 77,
   "metadata": {},
   "outputs": [],
   "source": [
    "main_url=url"
   ]
  },
  {
   "cell_type": "code",
   "execution_count": 45,
   "metadata": {},
   "outputs": [
    {
     "name": "stdout",
     "output_type": "stream",
     "text": [
      "product-reviews\n",
      "https://www.amazon.in/product-reviews/B0CQ7RQ5RK/ref=sspa_dk_detail_4?psc=1&pd_rd_i=B0CQ7RQ5RK&pd_rd_w=YFwVw&content-id=amzn1.sym.dcd65529-2e56-4c74-bf19-15db07b4a1fc&pf_rd_p=dcd65529-2e56-4c74-bf19-15db07b4a1fc&pf_rd_r=T718R0X3ZSCDX2SWN7XZ&pd_rd_wg=qsyzn&pd_rd_r=8b621ad9-a5cd-4c90-8f75-72e5d9b0895f&sp_csd=d2lkZ2V0TmFtZT1zcF9kZXRhaWxfdGhlbWF0aWM/\n"
     ]
    }
   ],
   "source": [
    "\n",
    "# Replace \"dp\" with \"product-reviews\"\n",
    "url = url.replace(\"/dp/\", \"/product-reviews/\")\n",
    "\n",
    "# Remove all characters after the 3rd \"/\"\n",
    "url_parts = url.split(\"/\")\n",
    "Title = url_parts[3]\n",
    "print(Title)\n",
    "url_parts = url_parts[:6]\n",
    "\n",
    "modified_url = \"/\".join(url_parts)\n",
    "reviews_url=modified_url+'/'\n",
    "print(reviews_url)"
   ]
  },
  {
   "cell_type": "code",
   "execution_count": 46,
   "metadata": {},
   "outputs": [],
   "source": [
    "path = \"p_name.txt\"\n",
    "with open(path, 'w') as file:\n",
    "    file.write(\"\")\n",
    "    Title=Title.replace(\" \",\"+\")\n",
    "    file.write(Title)"
   ]
  },
  {
   "cell_type": "code",
   "execution_count": 57,
   "metadata": {},
   "outputs": [],
   "source": [
    "# Define Page No\n",
    "len_page = 2"
   ]
  },
  {
   "cell_type": "code",
   "execution_count": 61,
   "metadata": {},
   "outputs": [],
   "source": [
    "import urllib"
   ]
  },
  {
   "cell_type": "code",
   "execution_count": 92,
   "metadata": {},
   "outputs": [],
   "source": [
    "page=urllib.request.urlopen(url)\n",
    "super=BeautifulSoup(page, \"html.parser\")\n",
    "#img_items=page_soup.find('div', {'class': 'items-view 15-grid'})"
   ]
  },
  {
   "cell_type": "code",
   "execution_count": 89,
   "metadata": {},
   "outputs": [
    {
     "name": "stdout",
     "output_type": "stream",
     "text": [
      "<div class=\"a-text-center a-spacing-top-micro a-fixed-left-grid-col product-image a-col-left\" style=\"width:65px;margin-left:-65px;float:left;\"><a class=\"a-link-normal\" href=\"/Gravity-Speakers-Fingerprint-Octa-Core-Processor/dp/B0CQ7RQ5RK\"><img alt=\"TECNO POP 8 (Gravity Black,(8GB*+64GB)| 90Hz Punch Hole Display with Dynamic Port &amp;amp; Dual Speakers with DTS| 5000mAh Battery |10W Type-C| Side Fingerprint Sensor| Octa-Core Processor\" data-a-hires=\"https://m.media-amazon.com/images/I/41U49NAvYdL._AC_US120_SCLZZZZZZZ__.jpg\" data-hook=\"cr-product-image\" height=\"60\" src=\"https://m.media-amazon.com/images/I/41U49NAvYdL._AC_US60_SCLZZZZZZZ__.jpg\" width=\"60\"/></a></div>\n"
     ]
    }
   ],
   "source": [
    "img_items=super.find('div', {'class': \"a-text-center a-spacing-top-micro a-fixed-left-grid-col product-image a-col-left\"})\n",
    "print(img_items)"
   ]
  },
  {
   "cell_type": "code",
   "execution_count": 90,
   "metadata": {},
   "outputs": [],
   "source": [
    "image = img_items.find('img')\n",
    "src  = image.get('src')"
   ]
  },
  {
   "cell_type": "code",
   "execution_count": 75,
   "metadata": {},
   "outputs": [
    {
     "name": "stdout",
     "output_type": "stream",
     "text": [
      "https://m.media-amazon.com/images/I/41U49NAvYdL._AC_US60_SCLZZZZZZZ__.jpg\n"
     ]
    }
   ],
   "source": [
    "print(src)"
   ]
  },
  {
   "cell_type": "code",
   "execution_count": 58,
   "metadata": {},
   "outputs": [],
   "source": [
    "# Extra Data as Html object from amazon Review page\n",
    "def reviewsHtml(url, len_page):\n",
    "    \n",
    "    # Empty List define to store all pages html data\n",
    "    soups = []\n",
    "    \n",
    "    # Loop for gather all 3000 reviews from 300 pages via range\n",
    "    for page_no in range(1, len_page + 1):\n",
    "        print(page_no)\n",
    "        \n",
    "        # parameter set as page no to the requests body\n",
    "        params = {\n",
    "            'ie': 'UTF8',\n",
    "            'reviewerType': 'all_reviews',\n",
    "            'filterByStar': 'critical',\n",
    "            'pageNumber': page_no,\n",
    "        }\n",
    "        \n",
    "        # Request make for each page\n",
    "        response = requests.get(url, headers=headers)\n",
    "        \n",
    "        # Save Html object by using BeautifulSoup4 and lxml parser\n",
    "        soup = BeautifulSoup(response.text, 'html.parser')\n",
    "        sou=soup\n",
    "        # Add single Html page data in master soups list\n",
    "        soups.append(soup)\n",
    "        \n",
    "    return soups"
   ]
  },
  {
   "cell_type": "code",
   "execution_count": 49,
   "metadata": {},
   "outputs": [],
   "source": [
    "# Grab Reviews name, description, date, stars, title from HTML \n",
    "def getReviews(html_data):\n",
    "\n",
    "    # Create Empty list to Hold all data\n",
    "    data_dicts = []\n",
    "    \n",
    "    # Select all Reviews BOX html using css selector\n",
    "    boxes = html_data.select('div[data-hook=\"review\"]')\n",
    "    \n",
    "    # Iterate all Reviews BOX \n",
    "    for box in boxes:\n",
    "        # Select Name using css selector and cleaning text using strip()\n",
    "        # If Value is empty define value with 'N/A' for all.\n",
    "\n",
    "        try:\n",
    "            stars = box.select_one('[data-hook=\"review-star-rating\"]').text.strip().split(' out')[0]\n",
    "        except Exception as e:\n",
    "            stars = 'N/A'   \n",
    "\n",
    "        try:\n",
    "            title = box.select_one('[data-hook=\"review-title\"]').text.strip()\n",
    "        except Exception as e:\n",
    "            title = 'N/A'\n",
    "\n",
    "        try:\n",
    "            description = box.select_one('[data-hook=\"review-body\"]').text.strip()\n",
    "        except Exception as e:\n",
    "            description = 'N/A'\n",
    "\n",
    "        # create Dictionary with al review data \n",
    "        data_dict = {\n",
    "            'Stars' : stars,\n",
    "            'Title' : title,\n",
    "            'Description' : description\n",
    "        }\n",
    "\n",
    "        # Add Dictionary in master empty List\n",
    "        data_dicts.append(data_dict)\n",
    "    \n",
    "    return data_dicts"
   ]
  },
  {
   "cell_type": "code",
   "execution_count": 50,
   "metadata": {},
   "outputs": [
    {
     "name": "stdout",
     "output_type": "stream",
     "text": [
      "1\n",
      "2\n"
     ]
    }
   ],
   "source": [
    "# Grab all HTML\n",
    "html_datas = reviewsHtml(reviews_url, len_page)"
   ]
  },
  {
   "cell_type": "code",
   "execution_count": 51,
   "metadata": {},
   "outputs": [],
   "source": [
    "# Empty List to Hold all reviews data\n",
    "reviews = []"
   ]
  },
  {
   "cell_type": "code",
   "execution_count": 52,
   "metadata": {},
   "outputs": [],
   "source": [
    "# Iterate all Html page \n",
    "for html_data in html_datas:\n",
    "    \n",
    "    # Grab review data\n",
    "    review = getReviews(html_data)\n",
    "    \n",
    "    # add review data in reviews empty list\n",
    "    reviews += review"
   ]
  },
  {
   "cell_type": "code",
   "execution_count": 53,
   "metadata": {},
   "outputs": [],
   "source": [
    "# Create a dataframe with reviews Data\n",
    "df_reviews = pd.DataFrame(reviews)"
   ]
  },
  {
   "cell_type": "code",
   "execution_count": 54,
   "metadata": {},
   "outputs": [
    {
     "data": {
      "text/html": [
       "<div>\n",
       "<style scoped>\n",
       "    .dataframe tbody tr th:only-of-type {\n",
       "        vertical-align: middle;\n",
       "    }\n",
       "\n",
       "    .dataframe tbody tr th {\n",
       "        vertical-align: top;\n",
       "    }\n",
       "\n",
       "    .dataframe thead th {\n",
       "        text-align: right;\n",
       "    }\n",
       "</style>\n",
       "<table border=\"1\" class=\"dataframe\">\n",
       "  <thead>\n",
       "    <tr style=\"text-align: right;\">\n",
       "      <th></th>\n",
       "      <th>Stars</th>\n",
       "      <th>Title</th>\n",
       "      <th>Description</th>\n",
       "    </tr>\n",
       "  </thead>\n",
       "  <tbody>\n",
       "    <tr>\n",
       "      <th>0</th>\n",
       "      <td>5.0</td>\n",
       "      <td>5.0 out of 5 stars\\nHighly recommended</td>\n",
       "      <td>The phone is very good.I prefer to buy this ph...</td>\n",
       "    </tr>\n",
       "    <tr>\n",
       "      <th>1</th>\n",
       "      <td>5.0</td>\n",
       "      <td>5.0 out of 5 stars\\nValue of money</td>\n",
       "      <td>I like this mobile, this mobile desgin is very...</td>\n",
       "    </tr>\n",
       "    <tr>\n",
       "      <th>2</th>\n",
       "      <td>4.0</td>\n",
       "      <td>4.0 out of 5 stars\\nCost effective</td>\n",
       "      <td>Value for money, don't expect too much</td>\n",
       "    </tr>\n",
       "    <tr>\n",
       "      <th>3</th>\n",
       "      <td>5.0</td>\n",
       "      <td>5.0 out of 5 stars\\nTECNO POP 8 Gravity Black:...</td>\n",
       "      <td>Thrilled with my purchase of the TECNO POP 8 G...</td>\n",
       "    </tr>\n",
       "    <tr>\n",
       "      <th>4</th>\n",
       "      <td>5.0</td>\n",
       "      <td>5.0 out of 5 stars\\nExcellent phone in this pr...</td>\n",
       "      <td>The phone is very good.I prefer to buy this ph...</td>\n",
       "    </tr>\n",
       "    <tr>\n",
       "      <th>5</th>\n",
       "      <td>5.0</td>\n",
       "      <td>5.0 out of 5 stars\\nExcellent 👌</td>\n",
       "      <td>I like this is mobile, this mobile desgin is v...</td>\n",
       "    </tr>\n",
       "    <tr>\n",
       "      <th>6</th>\n",
       "      <td>5.0</td>\n",
       "      <td>5.0 out of 5 stars\\nValue of money</td>\n",
       "      <td>I like this mobile, this mobile desgin is very...</td>\n",
       "    </tr>\n",
       "    <tr>\n",
       "      <th>7</th>\n",
       "      <td>5.0</td>\n",
       "      <td>5.0 out of 5 stars\\nHighly recommended</td>\n",
       "      <td>The phone is too good.I prefer to buy this pho...</td>\n",
       "    </tr>\n",
       "    <tr>\n",
       "      <th>8</th>\n",
       "      <td>4.0</td>\n",
       "      <td>4.0 out of 5 stars\\nSD card issue</td>\n",
       "      <td>I just the product over all😍. In this price ra...</td>\n",
       "    </tr>\n",
       "    <tr>\n",
       "      <th>9</th>\n",
       "      <td>4.0</td>\n",
       "      <td>4.0 out of 5 stars\\nGood mobile</td>\n",
       "      <td>Good mobile for daily uses and good looking</td>\n",
       "    </tr>\n",
       "    <tr>\n",
       "      <th>10</th>\n",
       "      <td>5.0</td>\n",
       "      <td>5.0 out of 5 stars\\nHighly recommended</td>\n",
       "      <td>The phone is very good.I prefer to buy this ph...</td>\n",
       "    </tr>\n",
       "    <tr>\n",
       "      <th>11</th>\n",
       "      <td>5.0</td>\n",
       "      <td>5.0 out of 5 stars\\nValue of money</td>\n",
       "      <td>I like this mobile, this mobile desgin is very...</td>\n",
       "    </tr>\n",
       "    <tr>\n",
       "      <th>12</th>\n",
       "      <td>4.0</td>\n",
       "      <td>4.0 out of 5 stars\\nCost effective</td>\n",
       "      <td>Value for money, don't expect too much</td>\n",
       "    </tr>\n",
       "    <tr>\n",
       "      <th>13</th>\n",
       "      <td>5.0</td>\n",
       "      <td>5.0 out of 5 stars\\nTECNO POP 8 Gravity Black:...</td>\n",
       "      <td>Thrilled with my purchase of the TECNO POP 8 G...</td>\n",
       "    </tr>\n",
       "    <tr>\n",
       "      <th>14</th>\n",
       "      <td>5.0</td>\n",
       "      <td>5.0 out of 5 stars\\nExcellent phone in this pr...</td>\n",
       "      <td>The phone is very good.I prefer to buy this ph...</td>\n",
       "    </tr>\n",
       "    <tr>\n",
       "      <th>15</th>\n",
       "      <td>5.0</td>\n",
       "      <td>5.0 out of 5 stars\\nExcellent 👌</td>\n",
       "      <td>I like this is mobile, this mobile desgin is v...</td>\n",
       "    </tr>\n",
       "    <tr>\n",
       "      <th>16</th>\n",
       "      <td>5.0</td>\n",
       "      <td>5.0 out of 5 stars\\nValue of money</td>\n",
       "      <td>I like this mobile, this mobile desgin is very...</td>\n",
       "    </tr>\n",
       "    <tr>\n",
       "      <th>17</th>\n",
       "      <td>5.0</td>\n",
       "      <td>5.0 out of 5 stars\\nHighly recommended</td>\n",
       "      <td>The phone is too good.I prefer to buy this pho...</td>\n",
       "    </tr>\n",
       "    <tr>\n",
       "      <th>18</th>\n",
       "      <td>4.0</td>\n",
       "      <td>4.0 out of 5 stars\\nSD card issue</td>\n",
       "      <td>I just the product over all😍. In this price ra...</td>\n",
       "    </tr>\n",
       "    <tr>\n",
       "      <th>19</th>\n",
       "      <td>4.0</td>\n",
       "      <td>4.0 out of 5 stars\\nGood mobile</td>\n",
       "      <td>Good mobile for daily uses and good looking</td>\n",
       "    </tr>\n",
       "  </tbody>\n",
       "</table>\n",
       "</div>"
      ],
      "text/plain": [
       "   Stars                                              Title  \\\n",
       "0    5.0             5.0 out of 5 stars\\nHighly recommended   \n",
       "1    5.0                 5.0 out of 5 stars\\nValue of money   \n",
       "2    4.0                 4.0 out of 5 stars\\nCost effective   \n",
       "3    5.0  5.0 out of 5 stars\\nTECNO POP 8 Gravity Black:...   \n",
       "4    5.0  5.0 out of 5 stars\\nExcellent phone in this pr...   \n",
       "5    5.0                    5.0 out of 5 stars\\nExcellent 👌   \n",
       "6    5.0                 5.0 out of 5 stars\\nValue of money   \n",
       "7    5.0             5.0 out of 5 stars\\nHighly recommended   \n",
       "8    4.0                  4.0 out of 5 stars\\nSD card issue   \n",
       "9    4.0                    4.0 out of 5 stars\\nGood mobile   \n",
       "10   5.0             5.0 out of 5 stars\\nHighly recommended   \n",
       "11   5.0                 5.0 out of 5 stars\\nValue of money   \n",
       "12   4.0                 4.0 out of 5 stars\\nCost effective   \n",
       "13   5.0  5.0 out of 5 stars\\nTECNO POP 8 Gravity Black:...   \n",
       "14   5.0  5.0 out of 5 stars\\nExcellent phone in this pr...   \n",
       "15   5.0                    5.0 out of 5 stars\\nExcellent 👌   \n",
       "16   5.0                 5.0 out of 5 stars\\nValue of money   \n",
       "17   5.0             5.0 out of 5 stars\\nHighly recommended   \n",
       "18   4.0                  4.0 out of 5 stars\\nSD card issue   \n",
       "19   4.0                    4.0 out of 5 stars\\nGood mobile   \n",
       "\n",
       "                                          Description  \n",
       "0   The phone is very good.I prefer to buy this ph...  \n",
       "1   I like this mobile, this mobile desgin is very...  \n",
       "2              Value for money, don't expect too much  \n",
       "3   Thrilled with my purchase of the TECNO POP 8 G...  \n",
       "4   The phone is very good.I prefer to buy this ph...  \n",
       "5   I like this is mobile, this mobile desgin is v...  \n",
       "6   I like this mobile, this mobile desgin is very...  \n",
       "7   The phone is too good.I prefer to buy this pho...  \n",
       "8   I just the product over all😍. In this price ra...  \n",
       "9         Good mobile for daily uses and good looking  \n",
       "10  The phone is very good.I prefer to buy this ph...  \n",
       "11  I like this mobile, this mobile desgin is very...  \n",
       "12             Value for money, don't expect too much  \n",
       "13  Thrilled with my purchase of the TECNO POP 8 G...  \n",
       "14  The phone is very good.I prefer to buy this ph...  \n",
       "15  I like this is mobile, this mobile desgin is v...  \n",
       "16  I like this mobile, this mobile desgin is very...  \n",
       "17  The phone is too good.I prefer to buy this pho...  \n",
       "18  I just the product over all😍. In this price ra...  \n",
       "19        Good mobile for daily uses and good looking  "
      ]
     },
     "execution_count": 54,
     "metadata": {},
     "output_type": "execute_result"
    }
   ],
   "source": [
    "df_reviews"
   ]
  },
  {
   "cell_type": "code",
   "execution_count": 60,
   "metadata": {},
   "outputs": [
    {
     "ename": "TypeError",
     "evalue": "slice indices must be integers or None or have an __index__ method",
     "output_type": "error",
     "traceback": [
      "\u001b[1;31m---------------------------------------------------------------------------\u001b[0m",
      "\u001b[1;31mTypeError\u001b[0m                                 Traceback (most recent call last)",
      "Cell \u001b[1;32mIn[60], line 1\u001b[0m\n\u001b[1;32m----> 1\u001b[0m img \u001b[38;5;241m=\u001b[39m \u001b[43msou\u001b[49m\u001b[38;5;241;43m.\u001b[39;49m\u001b[43mfind\u001b[49m\u001b[43m(\u001b[49m\u001b[38;5;124;43m'\u001b[39;49m\u001b[38;5;124;43mdiv\u001b[39;49m\u001b[38;5;124;43m'\u001b[39;49m\u001b[43m,\u001b[49m\u001b[43m \u001b[49m\u001b[43m{\u001b[49m\u001b[38;5;124;43m'\u001b[39;49m\u001b[38;5;124;43mclass\u001b[39;49m\u001b[38;5;124;43m'\u001b[39;49m\u001b[43m:\u001b[49m\u001b[43m \u001b[49m\u001b[38;5;124;43m'\u001b[39;49m\u001b[38;5;124;43ma-fixed-left-grid-inner\u001b[39;49m\u001b[38;5;124;43m'\u001b[39;49m\u001b[43m}\u001b[49m\u001b[43m)\u001b[49m\n",
      "\u001b[1;31mTypeError\u001b[0m: slice indices must be integers or None or have an __index__ method"
     ]
    }
   ],
   "source": [
    "img_items=page_soup.find('div', {'class': 'items-view 15-grid'})"
   ]
  },
  {
   "cell_type": "code",
   "execution_count": null,
   "metadata": {},
   "outputs": [],
   "source": []
  }
 ],
 "metadata": {
  "kernelspec": {
   "display_name": "classer",
   "language": "python",
   "name": "python3"
  },
  "language_info": {
   "codemirror_mode": {
    "name": "ipython",
    "version": 3
   },
   "file_extension": ".py",
   "mimetype": "text/x-python",
   "name": "python",
   "nbconvert_exporter": "python",
   "pygments_lexer": "ipython3",
   "version": "3.9.18"
  }
 },
 "nbformat": 4,
 "nbformat_minor": 2
}
